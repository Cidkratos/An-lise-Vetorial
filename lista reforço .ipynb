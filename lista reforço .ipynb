{
 "cells": [
  {
   "cell_type": "code",
   "execution_count": 1,
   "metadata": {},
   "outputs": [],
   "source": [
    "import sympy as sp \n",
    "import numpy as np \n",
    "sp.init_printing(pretty_print=True)"
   ]
  },
  {
   "cell_type": "code",
   "execution_count": 2,
   "metadata": {},
   "outputs": [],
   "source": [
    "x,y,a,b = sp.symbols('x y a b ')"
   ]
  },
  {
   "cell_type": "code",
   "execution_count": 3,
   "metadata": {},
   "outputs": [],
   "source": [
    "def derivada_simbolica(fun):\n",
    "    derivative = sp.diff(fun,x)\n",
    "    res = derivative\n",
    "    return res"
   ]
  },
  {
   "cell_type": "code",
   "execution_count": 4,
   "metadata": {},
   "outputs": [
    {
     "data": {
      "image/png": "[encoded data removed]",
      "text/latex": [
       "$\\displaystyle 2 x$"
      ],
      "text/plain": [
       "2⋅x"
      ]
     },
     "execution_count": 4,
     "metadata": {},
     "output_type": "execute_result"
    }
   ],
   "source": [
    "valor = derivada_simbolica(x**2)\n",
    "valor"
   ]
  },
  {
   "cell_type": "markdown",
   "metadata": {},
   "source": [
    "Resolva a restrição abaixo utilizando o pacote sympy:\n",
    "$$\n",
    "\\begin{cases}\n",
    "a = x +1\\\\\n",
    "b = 4x^2 + 5 \\\\\n",
    "restrição: a = b\n",
    "\\end{cases}\n",
    "$$\n",
    "\n",
    " "
   ]
  },
  {
   "cell_type": "code",
   "execution_count": 5,
   "metadata": {},
   "outputs": [],
   "source": [
    "eq_a = sp.Eq(a, x +1 )\n",
    "eq_b = sp.Eq(b,4*x**2 + 5)"
   ]
  },
  {
   "cell_type": "code",
   "execution_count": 6,
   "metadata": {},
   "outputs": [],
   "source": [
    "z = sp.Eq(eq_a.rhs,eq_b.rhs)"
   ]
  },
  {
   "cell_type": "code",
   "execution_count": 7,
   "metadata": {
    "scrolled": true
   },
   "outputs": [
    {
     "data": {
      "image/png": "[encoded data removed]",
      "text/latex": [
       "$\\displaystyle \\left[ \\left\\{ x : \\frac{1}{8} - \\frac{3 \\sqrt{7} i}{8}\\right\\}, \\  \\left\\{ x : \\frac{1}{8} + \\frac{3 \\sqrt{7} i}{8}\\right\\}\\right]$"
      ],
      "text/plain": [
       "⎡⎧   1   3⋅√7⋅ⅈ⎫  ⎧   1   3⋅√7⋅ⅈ⎫⎤\n",
       "⎢⎨x: ─ - ──────⎬, ⎨x: ─ + ──────⎬⎥\n",
       "⎣⎩   8     8   ⎭  ⎩   8     8   ⎭⎦"
      ]
     },
     "execution_count": 7,
     "metadata": {},
     "output_type": "execute_result"
    }
   ],
   "source": [
    "sp.solve(z,dict = True)"
   ]
  },
  {
   "cell_type": "code",
   "execution_count": 10,
   "metadata": {},
   "outputs": [],
   "source": [
    "fun = x**4 + sp.cos(x) + 34*x\n",
    "\n",
    "fun_res = sp.lambdify(x,fun,'numpy')\n"
   ]
  },
  {
   "cell_type": "code",
   "execution_count": 50,
   "metadata": {},
   "outputs": [
    {
     "data": {
      "text/plain": [
       "array([ 0.        ,  1.03448276,  2.06896552,  3.10344828,  4.13793103,\n",
       "        5.17241379,  6.20689655,  7.24137931,  8.27586207,  9.31034483,\n",
       "       10.34482759, 11.37931034, 12.4137931 , 13.44827586, 14.48275862,\n",
       "       15.51724138, 16.55172414, 17.5862069 , 18.62068966, 19.65517241,\n",
       "       20.68965517, 21.72413793, 22.75862069, 23.79310345, 24.82758621,\n",
       "       25.86206897, 26.89655172, 27.93103448, 28.96551724, 30.        ])"
      ]
     },
     "execution_count": 50,
     "metadata": {},
     "output_type": "execute_result"
    }
   ],
   "source": [
    "k = np.linspace(0,30,30)\n",
    "j = np.arange(0,30+1,1)\n",
    "k"
   ]
  },
  {
   "cell_type": "code",
   "execution_count": 51,
   "metadata": {},
   "outputs": [
    {
     "data": {
      "text/plain": [
       "array([1.00000000e+00, 3.68286152e+01, 8.81907027e+01, 1.97281665e+02,\n",
       "       4.33325365e+02, 8.92075302e+02, 1.69625072e+03, 2.99648110e+03,\n",
       "       4.97183527e+03, 7.82941768e+03, 1.18034266e+04, 1.71545954e+04,\n",
       "       2.41705636e+04, 3.31668145e+04, 4.44872622e+04, 5.85039146e+04,\n",
       "       7.56159410e+04, 9.62490570e+04, 1.20855828e+05, 1.49916594e+05,\n",
       "       1.83940114e+05, 2.23463291e+05, 2.69050265e+05, 3.21291733e+05,\n",
       "       3.80805192e+05, 4.48235845e+05, 5.24257290e+05, 6.09571326e+05,\n",
       "       7.04907052e+05, 8.11020154e+05])"
      ]
     },
     "execution_count": 51,
     "metadata": {},
     "output_type": "execute_result"
    }
   ],
   "source": [
    "\n",
    "fun_res(k)"
   ]
  },
  {
   "cell_type": "code",
   "execution_count": 52,
   "metadata": {},
   "outputs": [
    {
     "data": {
      "text/plain": [
       "array([1.00000000e+00, 3.55403023e+01, 8.35838532e+01, 1.82010008e+02,\n",
       "       3.91346356e+02, 7.95283662e+02, 1.50096017e+03, 2.63975390e+03,\n",
       "       4.36785450e+03, 6.86608887e+03, 1.03391609e+04, 1.50150044e+04,\n",
       "       2.11448439e+04, 2.90039074e+04, 3.88921367e+04, 5.11342403e+04,\n",
       "       6.60790423e+04, 8.40987248e+04, 1.05588660e+05, 1.30967989e+05,\n",
       "       1.60680408e+05, 1.95194452e+05, 2.35003000e+05, 2.80622467e+05,\n",
       "       3.32592424e+05, 3.91475991e+05, 4.57860647e+05, 5.32358708e+05,\n",
       "       6.15607037e+05, 7.08266252e+05, 8.11020154e+05])"
      ]
     },
     "execution_count": 52,
     "metadata": {},
     "output_type": "execute_result"
    }
   ],
   "source": [
    "fun_res(j) "
   ]
  },
  {
   "cell_type": "code",
   "execution_count": 56,
   "metadata": {},
   "outputs": [],
   "source": [
    "l= np.sum(fun_res(k))"
   ]
  },
  {
   "cell_type": "code",
   "execution_count": 57,
   "metadata": {},
   "outputs": [],
   "source": [
    "m = np.sum(fun_res(j))"
   ]
  },
  {
   "cell_type": "code",
   "execution_count": 60,
   "metadata": {},
   "outputs": [
    {
     "data": {
      "image/png": "[encoded data removed]",
      "text/latex": [
       "$\\displaystyle 6.912889047142841$"
      ],
      "text/plain": [
       "6.912889047142841"
      ]
     },
     "execution_count": 60,
     "metadata": {},
     "output_type": "execute_result"
    }
   ],
   "source": [
    "(l+m)*1e-26"
   ]
  }
 ],
 "metadata": {
  "kernelspec": {
   "display_name": "Python 3",
   "language": "python",
   "name": "python3"
  },
  "language_info": {
   "codemirror_mode": {
    "name": "ipython",
    "version": 3
   },
   "file_extension": ".py",
   "mimetype": "text/x-python",
   "name": "python",
   "nbconvert_exporter": "python",
   "pygments_lexer": "ipython3",
   "version": "3.8.3"
  }
 },
 "nbformat": 4,
 "nbformat_minor": 4
}
